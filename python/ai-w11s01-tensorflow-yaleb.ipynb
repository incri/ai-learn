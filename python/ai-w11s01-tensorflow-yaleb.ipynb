{
 "cells": [
  {
   "cell_type": "markdown",
   "metadata": {
    "id": "mM1xLNzcYafu"
   },
   "source": [
    "# TensorFlow with YaleB dataset"
   ]
  },
  {
   "cell_type": "code",
   "execution_count": 1,
   "metadata": {
    "colab": {
     "base_uri": "https://localhost:8080/"
    },
    "id": "KIKPx5XCYC6t",
    "outputId": "a713de9d-4929-4d1a-c584-ba1b1fac374e"
   },
   "outputs": [
    {
     "name": "stdout",
     "output_type": "stream",
     "text": [
      "Tensorflow version: 2.12.0\n"
     ]
    }
   ],
   "source": [
    "import tensorflow as tf\n",
    "print(\"Tensorflow version:\", tf.__version__)"
   ]
  },
  {
   "cell_type": "markdown",
   "metadata": {
    "id": "EpddcFiIdgVk"
   },
   "source": [
    "## Preparing the dataset"
   ]
  },
  {
   "cell_type": "code",
   "execution_count": 3,
   "metadata": {
    "colab": {
     "base_uri": "https://localhost:8080/"
    },
    "id": "BrjzmPsQZJuy",
    "outputId": "5238d919-6a43-4238-a439-d5a7e5a1887a"
   },
   "outputs": [
    {
     "name": "stdout",
     "output_type": "stream",
     "text": [
      "[[ 82.  86.  86. ...  91.  85.  80.]\n",
      " [ 96.  99. 107. ...  68.  62.  57.]\n",
      " [ 98. 104. 117. ...  35.  34.  33.]\n",
      " ...\n",
      " [ 28.  32.  38. ...  31.   0.   2.]\n",
      " [ 34.  35.  38. ...  16.   2.   0.]\n",
      " [  5.   5.   9. ...  36.   1.   0.]]\n",
      "[ 2.  2.  2. ... 39. 39. 39.]\n"
     ]
    }
   ],
   "source": [
    "import numpy as np\n",
    "\n",
    "data_path = \"./data/yaleExtB_data.npy\" # sets the path to the data folder\n",
    "X = np.load(data_path)\n",
    "# data = torch.from_numpy(np.load(data_path))\n",
    "\n",
    "target_path = \"./data/yaleExtB_target.npy\"\n",
    "target = np.load(target_path)\n",
    "\n",
    "print(X[:-5])\n",
    "print(target[:-5])"
   ]
  },
  {
   "cell_type": "markdown",
   "metadata": {
    "id": "nsQ8N38ndiuc"
   },
   "source": [
    "## Encoding target values with OneHotEncoding"
   ]
  },
  {
   "cell_type": "code",
   "execution_count": 4,
   "metadata": {
    "colab": {
     "base_uri": "https://localhost:8080/"
    },
    "id": "2EwrebJzZtnf",
    "outputId": "ea5687ad-b957-4b8a-8a92-279fb3a895a8"
   },
   "outputs": [
    {
     "name": "stdout",
     "output_type": "stream",
     "text": [
      "[[1. 0. 0. 0. 0. 0. 0. 0. 0. 0. 0. 0. 0. 0. 0. 0. 0. 0. 0. 0. 0. 0. 0. 0.\n",
      "  0. 0. 0. 0. 0. 0.]\n",
      " [1. 0. 0. 0. 0. 0. 0. 0. 0. 0. 0. 0. 0. 0. 0. 0. 0. 0. 0. 0. 0. 0. 0. 0.\n",
      "  0. 0. 0. 0. 0. 0.]\n",
      " [1. 0. 0. 0. 0. 0. 0. 0. 0. 0. 0. 0. 0. 0. 0. 0. 0. 0. 0. 0. 0. 0. 0. 0.\n",
      "  0. 0. 0. 0. 0. 0.]\n",
      " [1. 0. 0. 0. 0. 0. 0. 0. 0. 0. 0. 0. 0. 0. 0. 0. 0. 0. 0. 0. 0. 0. 0. 0.\n",
      "  0. 0. 0. 0. 0. 0.]\n",
      " [1. 0. 0. 0. 0. 0. 0. 0. 0. 0. 0. 0. 0. 0. 0. 0. 0. 0. 0. 0. 0. 0. 0. 0.\n",
      "  0. 0. 0. 0. 0. 0.]\n",
      " [1. 0. 0. 0. 0. 0. 0. 0. 0. 0. 0. 0. 0. 0. 0. 0. 0. 0. 0. 0. 0. 0. 0. 0.\n",
      "  0. 0. 0. 0. 0. 0.]\n",
      " [1. 0. 0. 0. 0. 0. 0. 0. 0. 0. 0. 0. 0. 0. 0. 0. 0. 0. 0. 0. 0. 0. 0. 0.\n",
      "  0. 0. 0. 0. 0. 0.]\n",
      " [1. 0. 0. 0. 0. 0. 0. 0. 0. 0. 0. 0. 0. 0. 0. 0. 0. 0. 0. 0. 0. 0. 0. 0.\n",
      "  0. 0. 0. 0. 0. 0.]\n",
      " [1. 0. 0. 0. 0. 0. 0. 0. 0. 0. 0. 0. 0. 0. 0. 0. 0. 0. 0. 0. 0. 0. 0. 0.\n",
      "  0. 0. 0. 0. 0. 0.]]\n"
     ]
    }
   ],
   "source": [
    "from sklearn.preprocessing import OneHotEncoder\n",
    "\n",
    "onehot_encoder=OneHotEncoder(sparse_output=False)\n",
    "\n",
    "reshaped=target.reshape(len(target), 1)\n",
    "\n",
    "Y=onehot_encoder.fit_transform(reshaped)\n",
    "\n",
    "print(Y[1:10])"
   ]
  },
  {
   "cell_type": "markdown",
   "metadata": {
    "id": "VUCfhIzrdoTu"
   },
   "source": [
    "## Train-test data split"
   ]
  },
  {
   "cell_type": "code",
   "execution_count": 5,
   "metadata": {
    "id": "SX6oi6N0b-sv"
   },
   "outputs": [],
   "source": [
    "from sklearn.model_selection import train_test_split\n",
    "\n",
    "X_train, X_test, y_train, y_test = train_test_split(X, Y, test_size=0.33, random_state=42)"
   ]
  },
  {
   "cell_type": "markdown",
   "metadata": {
    "id": "pMP8p5DFkLv4"
   },
   "source": [
    "## Reducing dimension of data using PCA"
   ]
  },
  {
   "cell_type": "code",
   "execution_count": 6,
   "metadata": {
    "id": "p9LCt4X9kOkF"
   },
   "outputs": [],
   "source": [
    "from sklearn.decomposition import PCA\n",
    "\n",
    "# PCA \n",
    "nof_prin_components = 400  # PARAMETER for optimisation in expereiments\n",
    "pca = PCA(n_components=nof_prin_components, whiten=True).fit(X_train)\n",
    "# applies PCA to the train and test images to calculate the principal components\n",
    "X_train_pca = pca.transform(X_train) \n",
    "X_test_pca = pca.transform(X_test)"
   ]
  },
  {
   "cell_type": "markdown",
   "metadata": {
    "id": "smRm8u1wdrVV"
   },
   "source": [
    "## Configuring the model"
   ]
  },
  {
   "cell_type": "code",
   "execution_count": 7,
   "metadata": {
    "colab": {
     "base_uri": "https://localhost:8080/"
    },
    "id": "5zU8H_tIcFcB",
    "outputId": "f4f725e7-9fa5-437f-bf83-b956748c4d47"
   },
   "outputs": [
    {
     "data": {
      "text/plain": [
       "<keras.engine.sequential.Sequential at 0x1ffa6a41430>"
      ]
     },
     "execution_count": 7,
     "metadata": {},
     "output_type": "execute_result"
    }
   ],
   "source": [
    "import tensorflow as tf\n",
    "\n",
    "model = tf.keras.Sequential([\n",
    "    tf.keras.layers.Dense(400, activation='relu'),\n",
    "    tf.keras.layers.Dense(500, activation='relu'),\n",
    "    tf.keras.layers.Dense(30, activation='softmax')\n",
    "  ])\n",
    "model"
   ]
  },
  {
   "cell_type": "markdown",
   "metadata": {
    "id": "oyEr8Lu2dwa-"
   },
   "source": [
    "## Compile the model"
   ]
  },
  {
   "cell_type": "code",
   "execution_count": 8,
   "metadata": {
    "id": "9ai-dNJCcMHL"
   },
   "outputs": [
    {
     "data": {
      "text/plain": [
       "\"\\noptimizer = tf.keras.optimizers.Adam(learning_rate=0.1)\\nmodel.compile(loss='mse', optimizer=optimizer, metrics=['accuracy'])\\n\""
      ]
     },
     "execution_count": 8,
     "metadata": {},
     "output_type": "execute_result"
    }
   ],
   "source": [
    "#'''\n",
    "model.compile(optimizer='rmsprop',\n",
    "              loss='categorical_crossentropy',\n",
    "              metrics=['accuracy'])\n",
    "#'''\n",
    "\n",
    "'''\n",
    "optimizer = tf.keras.optimizers.Adam(learning_rate=0.1)\n",
    "model.compile(loss='mse', optimizer=optimizer, metrics=['accuracy'])\n",
    "'''"
   ]
  },
  {
   "cell_type": "markdown",
   "metadata": {
    "id": "aA0KZmZSdzIf"
   },
   "source": [
    "## Train the model"
   ]
  },
  {
   "cell_type": "code",
   "execution_count": 9,
   "metadata": {
    "colab": {
     "base_uri": "https://localhost:8080/"
    },
    "id": "kgEOnKegcPEg",
    "outputId": "b045d909-9022-4ab0-8b2f-27bf17aeca42"
   },
   "outputs": [
    {
     "name": "stdout",
     "output_type": "stream",
     "text": [
      "Epoch 1/16\n",
      "16/16 [==============================] - 0s 3ms/step - loss: 3.0502 - accuracy: 0.2498\n",
      "Epoch 2/16\n",
      "16/16 [==============================] - 0s 4ms/step - loss: 0.9090 - accuracy: 0.9602\n",
      "Epoch 3/16\n",
      "16/16 [==============================] - 0s 3ms/step - loss: 0.1455 - accuracy: 0.9990\n",
      "Epoch 4/16\n",
      "16/16 [==============================] - 0s 3ms/step - loss: 0.0388 - accuracy: 1.0000\n",
      "Epoch 5/16\n",
      "16/16 [==============================] - 0s 3ms/step - loss: 0.0132 - accuracy: 1.0000\n",
      "Epoch 6/16\n",
      "16/16 [==============================] - 0s 3ms/step - loss: 0.0053 - accuracy: 1.0000\n",
      "Epoch 7/16\n",
      "16/16 [==============================] - 0s 3ms/step - loss: 0.0026 - accuracy: 1.0000\n",
      "Epoch 8/16\n",
      "16/16 [==============================] - 0s 3ms/step - loss: 0.0016 - accuracy: 1.0000\n",
      "Epoch 9/16\n",
      "16/16 [==============================] - 0s 2ms/step - loss: 0.0012 - accuracy: 1.0000\n",
      "Epoch 10/16\n",
      "16/16 [==============================] - 0s 2ms/step - loss: 8.7571e-04 - accuracy: 1.0000\n",
      "Epoch 11/16\n",
      "16/16 [==============================] - 0s 3ms/step - loss: 7.0545e-04 - accuracy: 1.0000\n",
      "Epoch 12/16\n",
      "16/16 [==============================] - 0s 4ms/step - loss: 5.8892e-04 - accuracy: 1.0000\n",
      "Epoch 13/16\n",
      "16/16 [==============================] - 0s 5ms/step - loss: 5.0452e-04 - accuracy: 1.0000\n",
      "Epoch 14/16\n",
      "16/16 [==============================] - 0s 5ms/step - loss: 4.4079e-04 - accuracy: 1.0000\n",
      "Epoch 15/16\n",
      "16/16 [==============================] - 0s 5ms/step - loss: 3.9018e-04 - accuracy: 1.0000\n",
      "Epoch 16/16\n",
      "16/16 [==============================] - 0s 5ms/step - loss: 3.4991e-04 - accuracy: 1.0000\n"
     ]
    },
    {
     "data": {
      "text/plain": [
       "<keras.callbacks.History at 0x1ffa6b20dc0>"
      ]
     },
     "execution_count": 9,
     "metadata": {},
     "output_type": "execute_result"
    }
   ],
   "source": [
    "model.fit(X_train_pca, y_train, batch_size=64, epochs=16)"
   ]
  },
  {
   "cell_type": "markdown",
   "metadata": {
    "id": "t-C6gP2Dd2Tm"
   },
   "source": [
    "## Evaluation of the model with test data"
   ]
  },
  {
   "cell_type": "code",
   "execution_count": 10,
   "metadata": {
    "colab": {
     "base_uri": "https://localhost:8080/"
    },
    "id": "x2S2D845cTZD",
    "outputId": "5ffd6b0a-f4d2-44a5-f7ee-a378fce9b355"
   },
   "outputs": [
    {
     "name": "stdout",
     "output_type": "stream",
     "text": [
      "Test loss: 0.19094914197921753\n",
      "Test accuracy: 0.9414141178131104\n"
     ]
    }
   ],
   "source": [
    "loss, accuracy = model.evaluate(X_test_pca, y_test, verbose=0)\n",
    "print('Test loss:', loss)\n",
    "print('Test accuracy:', accuracy)"
   ]
  },
  {
   "cell_type": "markdown",
   "metadata": {
    "id": "OCOoH-s0d7Cm"
   },
   "source": [
    "## Predicting the output"
   ]
  },
  {
   "cell_type": "code",
   "execution_count": 11,
   "metadata": {
    "colab": {
     "base_uri": "https://localhost:8080/"
    },
    "id": "8qkE9p05cY36",
    "outputId": "019f1c0f-7a18-4047-cf71-9e4c925c0739"
   },
   "outputs": [
    {
     "name": "stdout",
     "output_type": "stream",
     "text": [
      "16/16 [==============================] - 0s 1ms/step\n"
     ]
    },
    {
     "data": {
      "text/plain": [
       "array([[1.31717734e-05, 4.26180804e-06, 5.29064437e-06, 1.73115095e-05,\n",
       "        1.71808456e-03, 2.64110513e-05, 1.80847553e-06, 3.87393142e-04,\n",
       "        2.59638124e-04, 1.18813645e-04, 7.85413606e-04, 1.48255815e-04,\n",
       "        1.41719618e-04, 1.56220712e-03, 5.71447657e-04, 1.54080899e-05,\n",
       "        1.22005775e-04, 5.02643350e-04, 9.07196663e-04, 5.29975514e-04,\n",
       "        2.33534392e-05, 8.51185818e-04, 9.86818194e-01, 5.08338504e-04,\n",
       "        1.14713766e-04, 1.12886410e-04, 3.47216404e-03, 1.69736486e-05,\n",
       "        7.32902845e-06, 2.36391235e-04],\n",
       "       [1.34777329e-05, 1.10954497e-05, 3.49479228e-06, 8.39585300e-06,\n",
       "        1.59954755e-06, 8.85638747e-06, 1.26599616e-05, 2.04691514e-05,\n",
       "        6.23445067e-06, 4.37224617e-06, 2.42114729e-05, 8.53413803e-06,\n",
       "        2.99482308e-05, 7.94979223e-06, 9.93691810e-06, 3.33614007e-05,\n",
       "        1.04333893e-04, 5.98083607e-05, 3.99921055e-06, 3.42074804e-06,\n",
       "        1.94142535e-06, 5.39211851e-06, 6.72687238e-05, 6.01034253e-06,\n",
       "        1.46772232e-04, 1.37021625e-05, 1.02083977e-05, 9.99348938e-01,\n",
       "        1.22727270e-05, 1.13668502e-05],\n",
       "       [4.12692971e-05, 1.16308460e-04, 2.34328370e-04, 2.05357443e-04,\n",
       "        8.92972967e-05, 9.21539959e-06, 6.47351320e-04, 1.47204100e-05,\n",
       "        9.86526906e-01, 1.23246369e-04, 1.95221149e-03, 1.69010000e-05,\n",
       "        2.43290514e-03, 2.00707698e-04, 2.74963386e-05, 4.82574163e-04,\n",
       "        6.48186506e-06, 2.18294779e-04, 5.29748853e-04, 8.54941900e-05,\n",
       "        4.87035977e-05, 1.45701279e-05, 2.00814148e-03, 1.05709105e-03,\n",
       "        1.97596289e-03, 3.02827561e-06, 1.69818391e-04, 2.64067057e-05,\n",
       "        7.31601205e-04, 4.04772300e-06],\n",
       "       [8.11399150e-06, 2.15402877e-04, 2.26430548e-05, 4.45674559e-05,\n",
       "        2.10103553e-05, 2.82450892e-05, 4.81957104e-05, 4.09212313e-04,\n",
       "        9.92267430e-01, 6.17702462e-05, 1.04771840e-04, 5.74860815e-06,\n",
       "        1.27308347e-04, 5.16227912e-04, 2.19416088e-05, 2.83452158e-04,\n",
       "        6.08630617e-05, 3.44020809e-04, 1.18402510e-04, 2.73139740e-04,\n",
       "        5.81638524e-05, 1.38943701e-03, 2.13202275e-03, 9.48345405e-05,\n",
       "        3.61228849e-05, 8.18129265e-05, 2.44863535e-04, 1.52908920e-04,\n",
       "        6.25129760e-05, 7.64920667e-04],\n",
       "       [3.28577613e-07, 5.70441853e-06, 1.39763661e-05, 8.13140105e-06,\n",
       "        8.91394957e-05, 1.54790530e-06, 5.14952308e-06, 2.53409803e-06,\n",
       "        2.76272967e-05, 9.99192297e-01, 6.83910321e-06, 6.41337829e-05,\n",
       "        1.31933821e-05, 9.89318723e-05, 2.49337972e-05, 7.59731074e-06,\n",
       "        7.31467708e-06, 1.12744838e-05, 8.22869115e-05, 1.96454876e-05,\n",
       "        1.57145223e-06, 1.52567918e-05, 1.39499010e-04, 8.68703719e-05,\n",
       "        1.70146959e-05, 2.34797881e-05, 4.59902867e-06, 6.98447502e-06,\n",
       "        1.26854584e-05, 9.31675913e-06]], dtype=float32)"
      ]
     },
     "execution_count": 11,
     "metadata": {},
     "output_type": "execute_result"
    }
   ],
   "source": [
    "y_pred = model.predict(X_test_pca)\n",
    "y_pred[:5]"
   ]
  },
  {
   "cell_type": "markdown",
   "metadata": {
    "id": "BD5dnY05d-G-"
   },
   "source": [
    "## Compare actual and predicted values"
   ]
  },
  {
   "cell_type": "code",
   "execution_count": 12,
   "metadata": {
    "colab": {
     "base_uri": "https://localhost:8080/"
    },
    "id": "Vm7JEklLccbj",
    "outputId": "3b4820f8-edbb-4dd5-ddc4-50c10681b038"
   },
   "outputs": [
    {
     "name": "stdout",
     "output_type": "stream",
     "text": [
      "Actual: [22 27  8  8  9 17 21 14 25  5 17 28 14 27  1 25 29 12  8  1 23 22 23 24\n",
      " 28  8 29 29 24 25 21 12 25 20  4  6  8  8 22  1 27  8 26 17 21  7  7  6\n",
      " 14 19 12 10 22 25 11 13  0  9  6 18 12 11  9  1 16  9  6 21 24  3  6 17\n",
      " 15  5 14 26 13 10  9 18 20  0  4 15 16  1 12 18 15 18 22  4  5 28 21  9\n",
      "  8  2 23  7 19 14 22 21  9  0  1 23  0 17  9 26 14  4  2  8 16  3  2 21\n",
      " 19 27 28  8  2 24 25 15 24  9 24  1 20 29 11  0  9  7 19  5 23  5 29  4\n",
      " 11 26 13 20  6 15 27 24 19 29 10 28 23  3  7  0  8  6 20 28  2  2 29 21\n",
      " 19  7  4 21 10 14  2  4 22 13  9 26  5 11  4  0 26 16 19  7 21 26 11 17\n",
      " 26 26 18  3 18  5 15  8 19 12  8  9 23 18  3 13  7 17  1 23 15 28  5  6\n",
      " 24  9 26  3 24 18 14 11  4  9  0  1 24 27 21  8 14 22 20 21 26 24 24 28\n",
      " 12 21 16  1 10 10 26 23 23 12 20  5 26 12 20 19  7 11 19 23 22  4 11 19\n",
      " 28 23 11  4 21 17  7  1  6 28 16 25 28 24  7 27 23 26 24 14  4 12  3 25\n",
      "  1 28 11 23  2 25 15 19 15 25 23 16  7 10 29 22  6  7 29 20 14  6  8 24\n",
      "  8 12 22 13 13 15  5 21 18 23 13 16 16 29  1 28  5  5 29 17 29 19 10 20\n",
      "  4  2 13 11  3 10 21 23 22 19  5 17  7 23  0 11  4 20 18 16 12 18 12  3\n",
      " 14 18 23 24 21 18  1 14  0 25  3 23 22 19 21 16 24 29 28  3 27 24 20 18\n",
      " 16  7 23 23  6 20 12 19 25 11 25 12  4 27 29 15 19  8 28 24  6 17  7  7\n",
      "  1 26 23  6 18  2 14 13  2 22 13 27  5 13  5 10 18 20 19  7  5 28 14  2\n",
      "  6  5 10 14 18  7  3 19 22 13  4 27  2 21 19 13 23 29  9 10  3 17 16 21\n",
      " 24 21  0  2 14  5  5 12  5 12 11 20 11 25  2 21  6  6 13  9 11  2 10 10\n",
      " 27  8 17 29 15 13  3 25 25 11  7 18 25 27 26]\n",
      "Predicted: [22 27  8  8  9 17 21 14 25  5 17 28 14 27  1 25 29 12  8  1 23 22 23 24\n",
      " 28  8 29 29 24 25 21 12 25 20  4  6  8  4 22  1 27  8 26 17 21  7  7  6\n",
      " 14 19 12 10 22 25 11 15  0  9  6 18 12 11  9  1 16  9  6 21 24  3  6 17\n",
      "  5  5 14 26 13 10  9 18 20  0  4 15 16  1 12 18 15 18 22  4  5 28 21  9\n",
      "  8  2 23  7 19 14 22 21  9  0  1 23  0 17  9 26 14  4  2  3 16  3  2 21\n",
      " 19 27 28  8  2 24 26 15 24  9  6  1 20 29 11  0  9  7 19  5 23  5 29  4\n",
      " 11 26 13 20  6 15 27 28 19 29 10 28 23  3  7  0  8  6 20 28  2  2 29 21\n",
      " 19  7  4 21 10 14 28  4 22 15 20 26  5 11  4  0 26 16 19 19 21 26 11 17\n",
      " 26 26 18  3 18  5 15  8 19 12  8  9 23 18  3 13  7 17  1 23 15 28  5  6\n",
      " 24  9 26  3 13  8 14 11  4  9 15  1 24 27 21  8 14 22 20 21 26 24 24 28\n",
      " 12 21 16  1 10 26 26 23 23  1 20  5 26 12 20 19  7 11 19 23 22  4 11 19\n",
      " 28 23 11  4 21 17 26  1  3 28 16 25 28 24  7 27 23 26 24 14  4 12  3 25\n",
      "  1 28 11 23  2 25 15 19 15 25 23 16  7 10 29 22  6  7 29 20 14  6 23 24\n",
      "  8 12 22 13 22 15  5 21 18 23 13 16 16 29  1 28  5  5 29 17 29 21 10 20\n",
      "  4  2 13 11  3 10 21 23 22 19  5 17  7 23 15 11  4 20 18 16 23 18 12  3\n",
      " 14 18 23 24 21 18  1 14  0 25  3 23 22 19 21 16 27 29 28  3 27 24 20 18\n",
      " 16  7 23 23  6 20 12 19 25 11 25 12  4 27 29 15 19  8 28 24  6 17  7  7\n",
      "  1 26 23  6 18  2 14 13  2 22 13 27  5 13  5 17 18 20 19  7  5 28 14  2\n",
      "  6  5 10 14 18  7  3 28 22 13  4 27  2 21 19 13 23 29  9 10  3 17 16 21\n",
      " 24 21  0  2 14  5  5 12  5 12 11 20 11 25  2 21 24  6 24  9 11  2 10 10\n",
      " 27  8 17 29 15 13  3 23 25 11  7 18 25 27 26]\n"
     ]
    }
   ],
   "source": [
    "import numpy as np\n",
    "actual = np.argmax(y_test,axis=1)\n",
    "predicted = np.argmax(y_pred,axis=1)\n",
    "print(f\"Actual: {actual}\")\n",
    "print(f\"Predicted: {predicted}\")"
   ]
  }
 ],
 "metadata": {
  "colab": {
   "provenance": []
  },
  "kernelspec": {
   "display_name": "Python 3 (ipykernel)",
   "language": "python",
   "name": "python3"
  },
  "language_info": {
   "codemirror_mode": {
    "name": "ipython",
    "version": 3
   },
   "file_extension": ".py",
   "mimetype": "text/x-python",
   "name": "python",
   "nbconvert_exporter": "python",
   "pygments_lexer": "ipython3",
   "version": "3.9.14"
  }
 },
 "nbformat": 4,
 "nbformat_minor": 1
}
