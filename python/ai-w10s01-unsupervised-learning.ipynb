{
 "cells": [
  {
   "cell_type": "markdown",
   "id": "2eb280fb",
   "metadata": {},
   "source": [
    "# Unsupervised learning"
   ]
  },
  {
   "cell_type": "markdown",
   "id": "4ff716bc",
   "metadata": {},
   "source": [
    "## Kohonen maps (Self organizing maps)\n",
    "\n",
    "Reference: https://www.geeksforgeeks.org/self-organising-maps-kohonen-maps/"
   ]
  },
  {
   "cell_type": "code",
   "execution_count": 7,
   "id": "232b83fd",
   "metadata": {},
   "outputs": [],
   "source": [
    "import math\n",
    "\n",
    "# Function here computes the winning vector\n",
    "# by Euclidean distance\n",
    "def winner(self, weights, sample):\n",
    "\n",
    "    D0 = 0\n",
    "    D1 = 0\n",
    "\n",
    "    for i in range(len(sample)):\n",
    "\n",
    "        D0 = D0 + math.pow((sample[i] - weights[0][i]), 2)\n",
    "        D1 = D1 + math.pow((sample[i] - weights[1][i]), 2)\n",
    "\n",
    "        if D0 > D1:\n",
    "            return 0\n",
    "        else:\n",
    "            return 1"
   ]
  },
  {
   "cell_type": "code",
   "execution_count": 8,
   "id": "72d54898",
   "metadata": {},
   "outputs": [],
   "source": [
    "# Function here updates the winning vector\n",
    "def update(self, weights, sample, J, alpha):\n",
    "\n",
    "    for i in range(len(weights)):\n",
    "        weights[J][i] = weights[J][i] + alpha * (sample[i] - weights[J][i])\n",
    "\n",
    "    return weights"
   ]
  },
  {
   "cell_type": "code",
   "execution_count": 9,
   "id": "3e0ce711",
   "metadata": {},
   "outputs": [],
   "source": [
    "# Training Examples ( m, n )\n",
    "T = [[1, 1, 0, 0], [0, 0, 0, 1], [1, 0, 0, 0], [0, 0, 1, 1]]\n",
    "\n",
    "m, n = len(T), len(T[0])\n",
    "\n",
    "# weight initialization ( n, C )\n",
    "weights = [[0.2, 0.6, 0.5, 0.9], [0.8, 0.4, 0.7, 0.3]]\n",
    "\n",
    "# training\n",
    "ob = SOM()\n",
    "\n",
    "epochs = 3\n",
    "alpha = 0.5\n",
    "\n",
    "for i in range(epochs):\n",
    "    for j in range(m):\n",
    "\n",
    "        # training sample\n",
    "        sample = T[j]\n",
    "\n",
    "        # Compute winner vector\n",
    "        J = ob.winner(weights, sample)\n",
    "\n",
    "        # Update winning vector\n",
    "        weights = ob.update(weights, sample, J, alpha)"
   ]
  },
  {
   "cell_type": "code",
   "execution_count": 14,
   "id": "2f551c23",
   "metadata": {},
   "outputs": [
    {
     "name": "stdout",
     "output_type": "stream",
     "text": [
      "Test Sample s belongs to Cluster :  0\n",
      "Trained weights :  [[0.6000000000000001, 0.8, 0.5, 0.9], [0.3333984375, 0.0666015625, 0.7, 0.3]]\n"
     ]
    }
   ],
   "source": [
    "# classify test sample\n",
    "s = [0, 0, 0, 0]\n",
    "J = ob.winner(weights, s)\n",
    "\n",
    "print(\"Test Sample s belongs to Cluster : \", J)\n",
    "print(\"Trained weights : \", weights)"
   ]
  },
  {
   "cell_type": "code",
   "execution_count": null,
   "id": "0562ae99",
   "metadata": {},
   "outputs": [],
   "source": []
  }
 ],
 "metadata": {
  "kernelspec": {
   "display_name": "Python 3 (ipykernel)",
   "language": "python",
   "name": "python3"
  },
  "language_info": {
   "codemirror_mode": {
    "name": "ipython",
    "version": 3
   },
   "file_extension": ".py",
   "mimetype": "text/x-python",
   "name": "python",
   "nbconvert_exporter": "python",
   "pygments_lexer": "ipython3",
   "version": "3.11.0"
  }
 },
 "nbformat": 4,
 "nbformat_minor": 5
}
